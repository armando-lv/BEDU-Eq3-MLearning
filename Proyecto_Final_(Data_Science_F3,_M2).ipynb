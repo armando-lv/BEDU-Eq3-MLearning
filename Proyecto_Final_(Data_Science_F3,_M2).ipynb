{
  "nbformat": 4,
  "nbformat_minor": 0,
  "metadata": {
    "colab": {
      "name": "//Proyecto Final (Data Science - F3, M2).ipynb",
      "provenance": [],
      "collapsed_sections": [
        "TFxBObuz6TcG",
        "QSmfN4LTVFSI",
        "s4k8vBO9sm8A",
        "7EM0sprIHnhH",
        "qdiqMdlUWQlo",
        "od62501JZ0PM",
        "9Les5VIqtAKp",
        "36gR0miGzjRz",
        "4rcZK_zszqCi"
      ],
      "include_colab_link": true
    },
    "kernelspec": {
      "display_name": "Python 3",
      "name": "python3"
    },
    "language_info": {
      "name": "python"
    }
  },
  "cells": [
    {
      "cell_type": "markdown",
      "metadata": {
        "id": "view-in-github",
        "colab_type": "text"
      },
      "source": [
        "<a href=\"https://colab.research.google.com/github/armando-lv/BEDU-Eq3-MLearning/blob/main/Proyecto_Final_(Data_Science_F3%2C_M2).ipynb\" target=\"_parent\"><img src=\"https://colab.research.google.com/assets/colab-badge.svg\" alt=\"Open In Colab\"/></a>"
      ]
    },
    {
      "cell_type": "markdown",
      "metadata": {
        "id": "yeA8IzNODpEJ"
      },
      "source": [
        "# _**BEDU** | DATA SCIENCE_\n",
        "## _**MÓDULO 2** (FASE 3) | Machine Learning_\n",
        "#### _**PROYECTO FINAL** | Colab NOTEBOOK (EQUIPO 3)_\n",
        "###### _**Integrantes** | Melina Ávila, Alejandro Gómora, Carlos Jiménez, Carlos Limón y Armando Lira._"
      ]
    },
    {
      "cell_type": "markdown",
      "metadata": {
        "id": "TFxBObuz6TcG"
      },
      "source": [
        "## _0. Trabajo **previo**_"
      ]
    },
    {
      "cell_type": "markdown",
      "metadata": {
        "id": "JHb5bZjqALXv"
      },
      "source": [
        "El presente desarrollo es continuación del trabajo que ha venido realizándose desde los módulos anteriores de este curso. \n",
        "\n",
        "Se puede consultar todo el material dando clic en el siguiente enlace: [Fase 3 - Módulo 1: Análisis de datos con Python](https://colab.research.google.com/drive/1JlCLUP2E2m7D01VdeRgIJH6rNpyQKx6s?usp=sharing#scrollTo=tgLDrnD_9rTt&uniqifier=1)"
      ]
    },
    {
      "cell_type": "markdown",
      "metadata": {
        "id": "QSmfN4LTVFSI"
      },
      "source": [
        "## _1. **Obtención** y **preparación** de los datos_"
      ]
    },
    {
      "cell_type": "markdown",
      "metadata": {
        "id": "G7IwEzU-U57K"
      },
      "source": [
        "> Se importan las librerías y herramientas que se utilizarán a lo largo del _Notebook_."
      ]
    },
    {
      "cell_type": "code",
      "metadata": {
        "id": "krKtfz_5DTsF"
      },
      "source": [
        "import warnings\n",
        "warnings.filterwarnings(\"ignore\", category = FutureWarning)\n",
        "\n",
        "import pandas as pd\n",
        "import numpy as np\n",
        "import seaborn as sns\n",
        "import statsmodels.api as sm\n",
        "import matplotlib.pyplot as plt\n",
        "from sklearn.linear_model import LinearRegression\n",
        "from sklearn.model_selection import KFold\n",
        "from sklearn.model_selection import train_test_split\n",
        "from sklearn.metrics import confusion_matrix\n",
        "from sklearn.neural_network import MLPClassifier"
      ],
      "execution_count": null,
      "outputs": []
    },
    {
      "cell_type": "markdown",
      "metadata": {
        "id": "Rz-FcMJ8VTWx"
      },
      "source": [
        "> Se importan los tres _DataFrames_ con los que se trabajará."
      ]
    },
    {
      "cell_type": "code",
      "metadata": {
        "id": "mSf5ir6iIxrI"
      },
      "source": [
        "df1 = pd.read_csv('https://raw.githubusercontent.com/Calileus/BeduFase3Modulo2/main/DS1.csv', index_col = 0, header = [0, 1])\n",
        "df1.rename(columns = {\"Unnamed: 3_level_0\": \"\"}, inplace = True)\n",
        "df1.columns = ['region','full_date','date_short','covid_19_percent','covid_19_sample_size','know_people_sick_percent','know_people_sick_sample_size','wear_a_mask_percent','wear_a_mask_sample_size','financial_concern_percent','financial_concern_sample_size','food_lackness_concern_percent','food_lackness_concern_sample_size']\n",
        "df2 = pd.read_csv('https://raw.githubusercontent.com/Calileus/BeduFase3Modulo2/main/DS2.csv', index_col = 0, header = [0, 1])\n",
        "df2.rename(columns = {\"Unnamed: 3_level_0\": \"\"}, inplace = True)\n",
        "df2.columns = ['region','full_date','date_short','accept_vaccine_percent','accept_vaccine_sample_size','trust_family_percent','trust_family_sample_size','trust_healthcare_percent','trust_healthcare_sample_size','trust_WHO_percent','trust_WHO_sample_size','trust_government_percent','trust_government_sample_size','trust_politicians_percent','trust_politicians_sample_size']\n",
        "df3 = pd.read_csv('https://raw.githubusercontent.com/Calileus/BeduFase3Modulo2/main/DS3.csv', index_col = 0, header = [0, 1])\n",
        "df3.rename(columns = {\"Unnamed: 3_level_0\": \"\"}, inplace = True)\n",
        "df3.columns = ['region','full_date','date_short','partially_vaccinated_percent','partially_vaccinated_sample_size','fully_vaccinated_percent','fully_vaccinated_sample_size','barrier_side_effects_percent','barrier_side_effects_sample_size','barrier_dont_need_already_had_percent','barrier_dont_need_already_had_sample_size','barrier_dont_need_not_beneficial_percent','barrier_dont_need_not_beneficial_sample_size','barrier_dont_believe_percent','barrier_dont_believe_sample_size','barrier_dont_like_vaccines_percent','barrier_dont_like_vaccines_sample_size','barrier_dont_trust_government_percent','barrier_dont_trust_government_sample_size']"
      ],
      "execution_count": null,
      "outputs": []
    },
    {
      "cell_type": "markdown",
      "metadata": {
        "id": "_iYCbnOQVg_K"
      },
      "source": [
        "> Nótese que nuestros datos están almacenados tanto en forma porcentual como en forma de tamaño muestral, no obstante el algoritmo ulterior utilizará únicamente la representación porcentual por estar normalizada; esto significa que los datos se encuentran dentro de un intervalo definido, es decir `[0, 1]`."
      ]
    },
    {
      "cell_type": "code",
      "metadata": {
        "id": "koHFeHuzkBx4"
      },
      "source": [
        "df1_perc = df1[['region','full_date','covid_19_percent','know_people_sick_percent','wear_a_mask_percent','financial_concern_percent','food_lackness_concern_percent']]\n",
        "df2_perc = df2[['region','full_date','accept_vaccine_percent','trust_family_percent','trust_healthcare_percent','trust_WHO_percent','trust_government_percent','trust_politicians_percent']]\n",
        "df3_perc = df3[['region','full_date','partially_vaccinated_percent','fully_vaccinated_percent','barrier_side_effects_percent','barrier_dont_need_already_had_percent','barrier_dont_need_not_beneficial_percent','barrier_dont_believe_percent','barrier_dont_like_vaccines_percent','barrier_dont_trust_government_percent']]"
      ],
      "execution_count": null,
      "outputs": []
    },
    {
      "cell_type": "markdown",
      "metadata": {
        "id": "s4k8vBO9sm8A"
      },
      "source": [
        "## _2. **Procesamiento** de los datos_"
      ]
    },
    {
      "cell_type": "markdown",
      "metadata": {
        "id": "28eOIOyDsm8B"
      },
      "source": [
        "> Para no ignorar los datos referentes a la región, se opta por clasificar los estados de la República Mexicana en una escala categórica, dando valores cercanos a `0` a los estados del norte y cercanos a `1` a los del sur; siendo una medida rudimentaria de la cercanía de la región con centroamérica.\n",
        ">\n",
        "> 0.00 - Norte: Baja California, Sonora, Chihuahua, Coahuila, Nuevo León y Tamaulipas.\n",
        ">\n",
        "> 0.25 - Norte-Occidente: Baja California Sur, Sinaloa, Nayarit, Durango y Zacatecas.\n",
        ">\n",
        "> 0.50 - Centro-Norte: Jalisco, Aguascalientes, Colima, Michoacán y San Luis Potosí.\n",
        ">\n",
        "> 0.75 - Centro: Guanajuato, Querétaro, Hidalgo, Estado de México, Ciudad de México, Morelos, Tlaxcala y Puebla.\n",
        ">\n",
        "> 1.00 - Sur: Guerrero, Oaxaca, Chiapas, Veracruz, Tabasco, Campeche, Yucatán y Quintana Roo."
      ]
    },
    {
      "cell_type": "code",
      "metadata": {
        "id": "1cltx03Jsm8B"
      },
      "source": [
        "Estados_Norte = ['Baja California', 'Sonora', 'Chihuahua', 'Coahuila', 'Nuevo León', 'Tamaulipas']\n",
        "Estados_Norte_Occidente = ['Baja California Sur', 'Sinaloa', 'Nayarit', 'Durango', 'Zacatecas']\n",
        "Estados_Centro_Norte = ['Jalisco', 'Aguascalientes', 'Colima', 'Michoacán', 'San Luis Potosí']\n",
        "Estados_Centro = ['Guanajuato', 'Querétaro', 'Hidalgo', 'México', 'Distrito Federal', 'Morelos', 'Tlaxcala', 'Puebla']\n",
        "Estados_Sur = ['Guerrero', 'Oaxaca', 'Chiapas','Veracruz', 'Tabasco', 'Campeche', 'Yucatán', 'Quintana Roo']\n",
        "df1_perc = df1_perc.assign(region_zone=df1_perc['region'].apply(lambda x: 0.00 if x in Estados_Norte else 0.25 if x in Estados_Norte_Occidente else 0.5 if x in Estados_Centro_Norte else 0.75 if x in Estados_Centro else 1 if x in Estados_Sur else -1))\n",
        "df2_perc = df2_perc.assign(region_zone=df2_perc['region'].apply(lambda x: 0.00 if x in Estados_Norte else 0.25 if x in Estados_Norte_Occidente else 0.5 if x in Estados_Centro_Norte else 0.75 if x in Estados_Centro else 1 if x in Estados_Sur else -1))\n",
        "df3_perc = df3_perc.assign(region_zone=df3_perc['region'].apply(lambda x: 0.00 if x in Estados_Norte else 0.25 if x in Estados_Norte_Occidente else 0.5 if x in Estados_Centro_Norte else 0.75 if x in Estados_Centro else 1 if x in Estados_Sur else -1))"
      ],
      "execution_count": null,
      "outputs": []
    },
    {
      "cell_type": "markdown",
      "metadata": {
        "id": "AtkBwEMism8B"
      },
      "source": [
        "> En lo que respecta a las `barreras`, se suman todas ellas para simplificar el análisis y la suma se coloca en la columna `barrier_sum`.\n",
        ">\n",
        "> Luego se determinan niveles de barrera `barrier_lvl` aprovechando los percentiles: `0, 20, 40, 60, 80 y 100` para definir los niveles de barrera. \n",
        ">\n",
        "> 0 : Bajo nivel de barrera.\n",
        ">\n",
        "> 1 : Medio-Bajo nivel de barrera.\n",
        ">\n",
        "> 2 : Medio nivel de barrera.\n",
        ">\n",
        "> 3 : Medio-Alto nivel de barrera.\n",
        ">\n",
        "> 4 : Alto nivel de barrera.\n",
        ">\n",
        "> Luego definimos la columna `high_barrier` que identifica el cuarto nivel de barrera, o sea donde la barrera fue mayor."
      ]
    },
    {
      "cell_type": "code",
      "metadata": {
        "id": "AhoOsuSqsm8B"
      },
      "source": [
        "df3_perc = df3_perc.assign(barrier_sum = df3_perc['barrier_side_effects_percent']+df3_perc['barrier_dont_need_already_had_percent']+df3_perc['barrier_dont_need_not_beneficial_percent']+df3_perc['barrier_dont_believe_percent']+df3_perc['barrier_dont_like_vaccines_percent']+df3_perc['barrier_dont_trust_government_percent'])\n",
        "df3_perc = df3_perc.assign(barrier_lvl = df3_perc['barrier_sum'].apply(lambda x: ( 0 if x<df3_perc['barrier_sum'].quantile(0.2) else 1 if x<df3_perc['barrier_sum'].quantile(0.4) else 2 if x<df3_perc['barrier_sum'].quantile(0.6) else 3 if x<df3_perc['barrier_sum'].quantile(0.8) else 4)))\n",
        "df3_perc = df3_perc.assign(high_barrier = df3_perc['barrier_lvl'].apply(lambda x: 1 if x==4 else 0))"
      ],
      "execution_count": null,
      "outputs": []
    },
    {
      "cell_type": "markdown",
      "metadata": {
        "id": "MbjtSM8Csm8C"
      },
      "source": [
        "> En el caso de la `aceptación`, la variable se encuentra siempre entre el 82 y el 89%, por lo que se dividió a los datos directamente en dos categorías, siendo el promedio el umbral de categorización. La nueva variable categórica se almacenó en la columna `positive_accept`."
      ]
    },
    {
      "cell_type": "code",
      "metadata": {
        "id": "OZsNPnccsm8C"
      },
      "source": [
        "df2_perc = df2_perc.assign(positive_accept = df2_perc['accept_vaccine_percent'].apply(lambda x: 0 if x<df2_perc['accept_vaccine_percent'].quantile(0.5) else 1))"
      ],
      "execution_count": null,
      "outputs": []
    },
    {
      "cell_type": "markdown",
      "metadata": {
        "id": "40FA61xdsm8C"
      },
      "source": [
        "> Por último, haremos algunas uniones entre los distintos _DataFrames_ que tenemos para obtener datos relacionados."
      ]
    },
    {
      "cell_type": "code",
      "metadata": {
        "colab": {
          "base_uri": "https://localhost:8080/",
          "height": 215
        },
        "id": "t1wk4mQPsm8D",
        "outputId": "216bb044-633f-4df7-fecb-1b1366a7e49b"
      },
      "source": [
        "df_main_barrier = df1_perc.merge(df3_perc,how = 'inner') # Unión de los 'DataFrames' 1 y 3, con lo cual se obtienen datos relacionados en términos de las\n",
        "                                                         # barreras.\n",
        "df_main_barrier.tail(3)"
      ],
      "execution_count": null,
      "outputs": [
        {
          "output_type": "execute_result",
          "data": {
            "text/html": [
              "<div>\n",
              "<style scoped>\n",
              "    .dataframe tbody tr th:only-of-type {\n",
              "        vertical-align: middle;\n",
              "    }\n",
              "\n",
              "    .dataframe tbody tr th {\n",
              "        vertical-align: top;\n",
              "    }\n",
              "\n",
              "    .dataframe thead th {\n",
              "        text-align: right;\n",
              "    }\n",
              "</style>\n",
              "<table border=\"1\" class=\"dataframe\">\n",
              "  <thead>\n",
              "    <tr style=\"text-align: right;\">\n",
              "      <th></th>\n",
              "      <th>region</th>\n",
              "      <th>full_date</th>\n",
              "      <th>covid_19_percent</th>\n",
              "      <th>know_people_sick_percent</th>\n",
              "      <th>wear_a_mask_percent</th>\n",
              "      <th>financial_concern_percent</th>\n",
              "      <th>food_lackness_concern_percent</th>\n",
              "      <th>region_zone</th>\n",
              "      <th>partially_vaccinated_percent</th>\n",
              "      <th>fully_vaccinated_percent</th>\n",
              "      <th>barrier_side_effects_percent</th>\n",
              "      <th>barrier_dont_need_already_had_percent</th>\n",
              "      <th>barrier_dont_need_not_beneficial_percent</th>\n",
              "      <th>barrier_dont_believe_percent</th>\n",
              "      <th>barrier_dont_like_vaccines_percent</th>\n",
              "      <th>barrier_dont_trust_government_percent</th>\n",
              "      <th>barrier_sum</th>\n",
              "      <th>barrier_lvl</th>\n",
              "      <th>high_barrier</th>\n",
              "    </tr>\n",
              "  </thead>\n",
              "  <tbody>\n",
              "    <tr>\n",
              "      <th>1877</th>\n",
              "      <td>Zacatecas</td>\n",
              "      <td>2021-02-12</td>\n",
              "      <td>0.021750</td>\n",
              "      <td>0.305506</td>\n",
              "      <td>0.904593</td>\n",
              "      <td>0.613046</td>\n",
              "      <td>0.429158</td>\n",
              "      <td>0.25</td>\n",
              "      <td>0.021140</td>\n",
              "      <td>0.140857</td>\n",
              "      <td>0.584486</td>\n",
              "      <td>0.131901</td>\n",
              "      <td>0.215860</td>\n",
              "      <td>0.055306</td>\n",
              "      <td>0.056166</td>\n",
              "      <td>0.0</td>\n",
              "      <td>1.043719</td>\n",
              "      <td>0</td>\n",
              "      <td>0</td>\n",
              "    </tr>\n",
              "    <tr>\n",
              "      <th>1878</th>\n",
              "      <td>Zacatecas</td>\n",
              "      <td>2021-02-21</td>\n",
              "      <td>0.018885</td>\n",
              "      <td>0.252188</td>\n",
              "      <td>0.908761</td>\n",
              "      <td>0.595263</td>\n",
              "      <td>0.419352</td>\n",
              "      <td>0.25</td>\n",
              "      <td>0.029802</td>\n",
              "      <td>0.525725</td>\n",
              "      <td>0.544449</td>\n",
              "      <td>0.139126</td>\n",
              "      <td>0.219846</td>\n",
              "      <td>0.059590</td>\n",
              "      <td>0.053400</td>\n",
              "      <td>0.0</td>\n",
              "      <td>1.016411</td>\n",
              "      <td>0</td>\n",
              "      <td>0</td>\n",
              "    </tr>\n",
              "    <tr>\n",
              "      <th>1879</th>\n",
              "      <td>Zacatecas</td>\n",
              "      <td>2021-02-23</td>\n",
              "      <td>0.017954</td>\n",
              "      <td>0.245188</td>\n",
              "      <td>0.905997</td>\n",
              "      <td>0.602056</td>\n",
              "      <td>0.421057</td>\n",
              "      <td>0.25</td>\n",
              "      <td>0.027260</td>\n",
              "      <td>0.415568</td>\n",
              "      <td>0.559499</td>\n",
              "      <td>0.148106</td>\n",
              "      <td>0.224277</td>\n",
              "      <td>0.070854</td>\n",
              "      <td>0.066374</td>\n",
              "      <td>0.0</td>\n",
              "      <td>1.069110</td>\n",
              "      <td>1</td>\n",
              "      <td>0</td>\n",
              "    </tr>\n",
              "  </tbody>\n",
              "</table>\n",
              "</div>"
            ],
            "text/plain": [
              "         region   full_date  ...  barrier_lvl  high_barrier\n",
              "1877  Zacatecas  2021-02-12  ...            0             0\n",
              "1878  Zacatecas  2021-02-21  ...            0             0\n",
              "1879  Zacatecas  2021-02-23  ...            1             0\n",
              "\n",
              "[3 rows x 19 columns]"
            ]
          },
          "metadata": {},
          "execution_count": 8
        }
      ]
    },
    {
      "cell_type": "code",
      "metadata": {
        "colab": {
          "base_uri": "https://localhost:8080/",
          "height": 215
        },
        "id": "EN9O0uUPTqnD",
        "outputId": "51806470-e152-4a5d-cf29-8227ba701f27"
      },
      "source": [
        "df_main_trust = df1_perc.merge(df2_perc,how = 'inner') # Unión de los 'DataFrames' 1 y 2, con lo cual se obtienen datos relacionados en términos de la confianza\n",
        "                                                       # que existe hacia las recomendaciones que otorgan ciertas figuras públicas.\n",
        "df_main_trust.tail(3)"
      ],
      "execution_count": null,
      "outputs": [
        {
          "output_type": "execute_result",
          "data": {
            "text/html": [
              "<div>\n",
              "<style scoped>\n",
              "    .dataframe tbody tr th:only-of-type {\n",
              "        vertical-align: middle;\n",
              "    }\n",
              "\n",
              "    .dataframe tbody tr th {\n",
              "        vertical-align: top;\n",
              "    }\n",
              "\n",
              "    .dataframe thead th {\n",
              "        text-align: right;\n",
              "    }\n",
              "</style>\n",
              "<table border=\"1\" class=\"dataframe\">\n",
              "  <thead>\n",
              "    <tr style=\"text-align: right;\">\n",
              "      <th></th>\n",
              "      <th>region</th>\n",
              "      <th>full_date</th>\n",
              "      <th>covid_19_percent</th>\n",
              "      <th>know_people_sick_percent</th>\n",
              "      <th>wear_a_mask_percent</th>\n",
              "      <th>financial_concern_percent</th>\n",
              "      <th>food_lackness_concern_percent</th>\n",
              "      <th>region_zone</th>\n",
              "      <th>accept_vaccine_percent</th>\n",
              "      <th>trust_family_percent</th>\n",
              "      <th>trust_healthcare_percent</th>\n",
              "      <th>trust_WHO_percent</th>\n",
              "      <th>trust_government_percent</th>\n",
              "      <th>trust_politicians_percent</th>\n",
              "      <th>positive_accept</th>\n",
              "    </tr>\n",
              "  </thead>\n",
              "  <tbody>\n",
              "    <tr>\n",
              "      <th>1578</th>\n",
              "      <td>Zacatecas</td>\n",
              "      <td>2021-01-29</td>\n",
              "      <td>0.021547</td>\n",
              "      <td>0.351437</td>\n",
              "      <td>0.893424</td>\n",
              "      <td>0.631942</td>\n",
              "      <td>0.447170</td>\n",
              "      <td>0.25</td>\n",
              "      <td>0.874037</td>\n",
              "      <td>0.579595</td>\n",
              "      <td>0.688995</td>\n",
              "      <td>0.811456</td>\n",
              "      <td>0.658983</td>\n",
              "      <td>0.291520</td>\n",
              "      <td>1</td>\n",
              "    </tr>\n",
              "    <tr>\n",
              "      <th>1579</th>\n",
              "      <td>Zacatecas</td>\n",
              "      <td>2021-02-03</td>\n",
              "      <td>0.018474</td>\n",
              "      <td>0.330387</td>\n",
              "      <td>0.907992</td>\n",
              "      <td>0.633608</td>\n",
              "      <td>0.446462</td>\n",
              "      <td>0.25</td>\n",
              "      <td>0.880995</td>\n",
              "      <td>0.581277</td>\n",
              "      <td>0.679584</td>\n",
              "      <td>0.812328</td>\n",
              "      <td>0.653927</td>\n",
              "      <td>0.272559</td>\n",
              "      <td>1</td>\n",
              "    </tr>\n",
              "    <tr>\n",
              "      <th>1580</th>\n",
              "      <td>Zacatecas</td>\n",
              "      <td>2021-02-12</td>\n",
              "      <td>0.021750</td>\n",
              "      <td>0.305506</td>\n",
              "      <td>0.904593</td>\n",
              "      <td>0.613046</td>\n",
              "      <td>0.429158</td>\n",
              "      <td>0.25</td>\n",
              "      <td>0.886255</td>\n",
              "      <td>0.567737</td>\n",
              "      <td>0.673119</td>\n",
              "      <td>0.781705</td>\n",
              "      <td>0.634481</td>\n",
              "      <td>0.265783</td>\n",
              "      <td>1</td>\n",
              "    </tr>\n",
              "  </tbody>\n",
              "</table>\n",
              "</div>"
            ],
            "text/plain": [
              "         region   full_date  ...  trust_politicians_percent  positive_accept\n",
              "1578  Zacatecas  2021-01-29  ...                   0.291520                1\n",
              "1579  Zacatecas  2021-02-03  ...                   0.272559                1\n",
              "1580  Zacatecas  2021-02-12  ...                   0.265783                1\n",
              "\n",
              "[3 rows x 15 columns]"
            ]
          },
          "metadata": {},
          "execution_count": 9
        }
      ]
    },
    {
      "cell_type": "markdown",
      "metadata": {
        "id": "YXPRZq9K01ia"
      },
      "source": [
        "> Nótese que, por tener muy baja correlación (lineal) con la variable objetivo, se removerán las columnas `partially_vaccinated_percent` y `fully_vaccinated_percent`, ubicadas originamente en el `df3_perc`."
      ]
    },
    {
      "cell_type": "code",
      "metadata": {
        "id": "DnCZXhXe0z7C"
      },
      "source": [
        "df3_perc = df3_perc.drop(['partially_vaccinated_percent', 'fully_vaccinated_percent'], axis = 1)"
      ],
      "execution_count": null,
      "outputs": []
    },
    {
      "cell_type": "markdown",
      "metadata": {
        "id": "kFtIRqW91g44"
      },
      "source": [
        "> Para finalizar este apartado introductorio, definiremos algunas funciones que serán útiles más adelante."
      ]
    },
    {
      "cell_type": "code",
      "metadata": {
        "id": "2HhyiIfp1gRz"
      },
      "source": [
        "def calcularPrecision(TP, TN, FP, FN):\n",
        "    precision = TP / (TP + FP)\n",
        "    precision = precision * 100\n",
        "    return precision\n",
        "\n",
        "def calcularAccuracy(TP, TN, FP, FN):\n",
        "    accuracy = (TP + TN) / (TP + TN + FP + FN)\n",
        "    accuracy = accuracy * 100\n",
        "    return accuracy\n",
        "\n",
        "def calcularSensibilidad(TP, TN, FP, FN):\n",
        "    sensibilidad = TP / (TP + FN)\n",
        "    sensibilidad = sensibilidad * 100\n",
        "    return sensibilidad\n",
        "    \n",
        "def calcularEspecificidad(TP, TN, FP, FN):\n",
        "    especificidad = TN / (TN + FP)\n",
        "    especificidad = especificidad * 100\n",
        "    return especificidad"
      ],
      "execution_count": null,
      "outputs": []
    },
    {
      "cell_type": "markdown",
      "metadata": {
        "id": "7EM0sprIHnhH"
      },
      "source": [
        "## _3. **Regresión lineal** múltiple_"
      ]
    },
    {
      "cell_type": "markdown",
      "metadata": {
        "id": "qdiqMdlUWQlo"
      },
      "source": [
        "#### _3.1. Regresión lineal múltiple en el `df_main_barrier`_"
      ]
    },
    {
      "cell_type": "code",
      "metadata": {
        "id": "he-RNnmmIZr7"
      },
      "source": [
        "X_barrier = df_main_barrier[['region_zone','covid_19_percent','know_people_sick_percent','wear_a_mask_percent','financial_concern_percent','food_lackness_concern_percent']]\n",
        "y_barrier = df_main_barrier['barrier_sum'] # Definimos las varibles dependientes e independiente."
      ],
      "execution_count": null,
      "outputs": []
    },
    {
      "cell_type": "code",
      "metadata": {
        "id": "TzWJ6Zc-mcOk"
      },
      "source": [
        "k = 4\n",
        "kf = KFold(n_splits = k) # Preparamos la validación cruzada.\n",
        "reg = LinearRegression() # Instanciamos el objeto."
      ],
      "execution_count": null,
      "outputs": []
    },
    {
      "cell_type": "code",
      "metadata": {
        "id": "d9xS6-e6noDn",
        "colab": {
          "base_uri": "https://localhost:8080/"
        },
        "outputId": "506274d1-f5c9-436b-adcb-6375bdb17dcc"
      },
      "source": [
        "scores = []\n",
        "for train_index, test_index in kf.split(X_barrier):\n",
        "  X_training, X_test = X_barrier.iloc[train_index, :], X_barrier.iloc[test_index, :]\n",
        "  y_training, y_test = y_barrier[train_index], y_barrier[test_index] # Introducimos nuestras validaciones cruzadas en las variables de 'training' y 'testing'.\n",
        "\n",
        "  reg.fit(X_training, y_training) # Hacemos el 'fit'.\n",
        "  score_barrier = reg.score(X_test, y_test) # Obtenemos las calificaciones.\n",
        "  scores.append(score_barrier)\n",
        "\n",
        "barrier_promedio = sum(scores) / k # Obtenemos la calificación promedio.\n",
        "print(f'La calificación de las regresiones es de: {scores}')\n",
        "print(f'La calificación promedio de las regresiones es de: {barrier_promedio}')"
      ],
      "execution_count": null,
      "outputs": [
        {
          "output_type": "stream",
          "name": "stdout",
          "text": [
            "La calificación de las regresiones es de: [0.6733416439451783, 0.6279702026387675, 0.6408695890581871, 0.6511914862085986]\n",
            "La calificación promedio de las regresiones es de: 0.6483432304626828\n"
          ]
        }
      ]
    },
    {
      "cell_type": "markdown",
      "metadata": {
        "id": "D7qIn4csV9YD"
      },
      "source": [
        "> Se hace una interpretación de los resultados a partir de un análisis de coeficientes."
      ]
    },
    {
      "cell_type": "code",
      "metadata": {
        "id": "-Pkg47ycyzIO",
        "colab": {
          "base_uri": "https://localhost:8080/"
        },
        "outputId": "a709d5d6-3f3d-45ea-b3ed-19cd97a7c26c"
      },
      "source": [
        "reg.coef_[0] # Línea de código utilizada para obtener el coeficiente de una variable en específico, en este caso 'region_zone'."
      ],
      "execution_count": null,
      "outputs": [
        {
          "output_type": "execute_result",
          "data": {
            "text/plain": [
              "0.0010996070466352257"
            ]
          },
          "metadata": {},
          "execution_count": 15
        }
      ]
    },
    {
      "cell_type": "code",
      "metadata": {
        "id": "5CRilFIL2XWf",
        "colab": {
          "base_uri": "https://localhost:8080/"
        },
        "outputId": "a408f097-3c00-4c24-812f-6ede754dbf9a"
      },
      "source": [
        "X_copy = X_barrier.copy().loc[:, \"covid_19_percent\":]\n",
        "\n",
        "X_const = sm.add_constant(X_copy)\n",
        "est = sm.OLS(y_barrier, X_const)\n",
        "est2 = est.fit()\n",
        "print(est2.summary())"
      ],
      "execution_count": null,
      "outputs": [
        {
          "output_type": "stream",
          "name": "stdout",
          "text": [
            "                            OLS Regression Results                            \n",
            "==============================================================================\n",
            "Dep. Variable:            barrier_sum   R-squared:                       0.650\n",
            "Model:                            OLS   Adj. R-squared:                  0.649\n",
            "Method:                 Least Squares   F-statistic:                     696.5\n",
            "Date:                Mon, 08 Nov 2021   Prob (F-statistic):               0.00\n",
            "Time:                        02:49:56   Log-Likelihood:                 2138.2\n",
            "No. Observations:                1880   AIC:                            -4264.\n",
            "Df Residuals:                    1874   BIC:                            -4231.\n",
            "Df Model:                           5                                         \n",
            "Covariance Type:            nonrobust                                         \n",
            "=================================================================================================\n",
            "                                    coef    std err          t      P>|t|      [0.025      0.975]\n",
            "-------------------------------------------------------------------------------------------------\n",
            "const                            -0.3002      0.335     -0.896      0.370      -0.957       0.357\n",
            "covid_19_percent                  0.3911      0.887      0.441      0.659      -1.348       2.130\n",
            "know_people_sick_percent         -1.6878      0.083    -20.326      0.000      -1.851      -1.525\n",
            "wear_a_mask_percent               2.1620      0.343      6.297      0.000       1.489       2.835\n",
            "financial_concern_percent         0.8833      0.269      3.278      0.001       0.355       1.412\n",
            "food_lackness_concern_percent    -1.5237      0.243     -6.269      0.000      -2.000      -1.047\n",
            "==============================================================================\n",
            "Omnibus:                       84.803   Durbin-Watson:                   1.852\n",
            "Prob(Omnibus):                  0.000   Jarque-Bera (JB):              156.367\n",
            "Skew:                           0.337   Prob(JB):                     1.11e-34\n",
            "Kurtosis:                       4.242   Cond. No.                         771.\n",
            "==============================================================================\n",
            "\n",
            "Warnings:\n",
            "[1] Standard Errors assume that the covariance matrix of the errors is correctly specified.\n"
          ]
        }
      ]
    },
    {
      "cell_type": "markdown",
      "metadata": {
        "id": "EHTrO6aH80dw"
      },
      "source": [
        "> Se identifican las variables cuyo `Valor P|t|` es menor a `0.05`, pues son estas las que influyen significativamente en la variable dependiente. \n",
        ">\n",
        "> Para el caso de las barreras, las variables `know_people_sick_percent`, `wear_a_mask_percent`, `financial_concern_percent` y `food_lackness_concern_percent` se mantienen por debajo de dicho límite y por tanto son consideradas significativas."
      ]
    },
    {
      "cell_type": "markdown",
      "metadata": {
        "id": "aHn9G3u7iRic"
      },
      "source": [
        "> También es posible señalar las variables predictoras que producen un cambio mayor sobre la variable independiente, o sea: `wear_a_mask_percent`, `know_people_sick_percent` y `food_lackness_concern_percent`. Nótese que las dos últimas variables son negativas, lo que implica que la aceptación disminuye el factor correspondiente por cada unidad porcentual que éstas aumentan."
      ]
    },
    {
      "cell_type": "markdown",
      "metadata": {
        "id": "8hGwl5UAq0iC"
      },
      "source": [
        "> Finalmente y a modo de resumen, se está prediciendo, de manera muy precaria, los días que habrá un alto rechazo a la vacuna.\n",
        ">\n",
        "> Para la predicción se consideraron las siguientes variables como datos de entrada al modelo:\n",
        ">\n",
        "> - `region_zone`\n",
        ">\n",
        "> - `covid_19_percent`\n",
        ">\n",
        "> - `know_people_sick_percent`\n",
        ">\n",
        "> - `wear_a_mask_percent`\n",
        ">\n",
        "> - `financial_concern_percent`\n",
        ">\n",
        "> - `food_lackness_concern_percent`"
      ]
    },
    {
      "cell_type": "markdown",
      "metadata": {
        "id": "od62501JZ0PM"
      },
      "source": [
        "#### _3.2. Regresión lineal múltiple en el `df_main_trust`_"
      ]
    },
    {
      "cell_type": "code",
      "metadata": {
        "id": "GiFD3ifnZ5Qb"
      },
      "source": [
        "X_trust = df_main_trust[['region_zone','covid_19_percent','know_people_sick_percent','wear_a_mask_percent','trust_politicians_percent','trust_government_percent','trust_WHO_percent','trust_healthcare_percent','trust_family_percent','food_lackness_concern_percent','financial_concern_percent']]\n",
        "y_trust = df_main_trust['accept_vaccine_percent'] # Definimos las varibles dependientes e independiente."
      ],
      "execution_count": null,
      "outputs": []
    },
    {
      "cell_type": "code",
      "metadata": {
        "id": "gRJZOmq_p2Nv"
      },
      "source": [
        "k_2 = 4\n",
        "kf_2 = KFold(n_splits = k_2) # Preparamos la validación cruzada.\n",
        "lr = LinearRegression() # Instanciamos el objeto."
      ],
      "execution_count": null,
      "outputs": []
    },
    {
      "cell_type": "code",
      "metadata": {
        "id": "8tYGLggvp8Y0",
        "colab": {
          "base_uri": "https://localhost:8080/"
        },
        "outputId": "224817e4-05ec-4d97-c1ae-3830d4b5c18f"
      },
      "source": [
        "scores_trust = []\n",
        "for train_index, test_index in kf_2.split(X_trust):\n",
        "  X_t_training, X_t_test = X_trust.iloc[train_index, :], X_trust.iloc[test_index, :]\n",
        "  y_t_training, y_t_test = y_trust[train_index], y_trust[test_index] # Introducimos nuestras validaciones cruzadas en las variables de 'training' y 'testing'.\n",
        "\n",
        "  lr.fit(X_t_training, y_t_training) # Hacemos el 'fit'.\n",
        "  score_trust = lr.score(X_t_test, y_t_test) # Obtenemos las calificaciones.\n",
        "  scores_trust.append(score_trust)\n",
        "\n",
        "trust_promedio = sum(scores_trust) / k_2 # Obtenemos la calificación promedio.\n",
        "print(f'La calificación de las regresiones es de: {scores_trust}')\n",
        "print(f'La calificación promedio de las regresiones es de: {trust_promedio}')"
      ],
      "execution_count": null,
      "outputs": [
        {
          "output_type": "stream",
          "name": "stdout",
          "text": [
            "La calificación de las regresiones es de: [0.8532396070903963, 0.8485571144200633, 0.8504505146036684, 0.8502568628645204]\n",
            "La calificación promedio de las regresiones es de: 0.8506260247446622\n"
          ]
        }
      ]
    },
    {
      "cell_type": "markdown",
      "metadata": {
        "id": "tmh2xyGtWIkv"
      },
      "source": [
        "> Se hace una interpretación de los resultados a partir de un análisis de coeficientes."
      ]
    },
    {
      "cell_type": "code",
      "metadata": {
        "id": "OJ9mugY_3Zc0",
        "colab": {
          "base_uri": "https://localhost:8080/"
        },
        "outputId": "0ad9216f-7f83-4077-8b9d-4fff94cb3849"
      },
      "source": [
        "X_copy = X_trust.copy().loc[:, \"covid_19_percent\":]\n",
        "\n",
        "X_const = sm.add_constant(X_copy)\n",
        "est = sm.OLS(y_trust, X_const)\n",
        "est2 = est.fit()\n",
        "print(est2.summary())"
      ],
      "execution_count": null,
      "outputs": [
        {
          "output_type": "stream",
          "name": "stdout",
          "text": [
            "                              OLS Regression Results                              \n",
            "==================================================================================\n",
            "Dep. Variable:     accept_vaccine_percent   R-squared:                       0.851\n",
            "Model:                                OLS   Adj. R-squared:                  0.850\n",
            "Method:                     Least Squares   F-statistic:                     896.3\n",
            "Date:                    Mon, 08 Nov 2021   Prob (F-statistic):               0.00\n",
            "Time:                            02:49:56   Log-Likelihood:                 5422.1\n",
            "No. Observations:                    1581   AIC:                        -1.082e+04\n",
            "Df Residuals:                        1570   BIC:                        -1.076e+04\n",
            "Df Model:                              10                                         \n",
            "Covariance Type:                nonrobust                                         \n",
            "=================================================================================================\n",
            "                                    coef    std err          t      P>|t|      [0.025      0.975]\n",
            "-------------------------------------------------------------------------------------------------\n",
            "const                             0.5155      0.047     11.000      0.000       0.424       0.607\n",
            "covid_19_percent                  0.6400      0.109      5.895      0.000       0.427       0.853\n",
            "know_people_sick_percent         -0.0218      0.015     -1.495      0.135      -0.050       0.007\n",
            "wear_a_mask_percent               0.3575      0.050      7.156      0.000       0.260       0.456\n",
            "trust_politicians_percent        -0.1020      0.016     -6.393      0.000      -0.133      -0.071\n",
            "trust_government_percent          0.0459      0.037      1.238      0.216      -0.027       0.119\n",
            "trust_WHO_percent                 0.3385      0.033     10.256      0.000       0.274       0.403\n",
            "trust_healthcare_percent          0.1720      0.023      7.522      0.000       0.127       0.217\n",
            "trust_family_percent             -0.3571      0.017    -20.503      0.000      -0.391      -0.323\n",
            "food_lackness_concern_percent     0.1931      0.029      6.609      0.000       0.136       0.250\n",
            "financial_concern_percent        -0.3709      0.031    -11.780      0.000      -0.433      -0.309\n",
            "==============================================================================\n",
            "Omnibus:                        3.268   Durbin-Watson:                   1.718\n",
            "Prob(Omnibus):                  0.195   Jarque-Bera (JB):                3.179\n",
            "Skew:                          -0.107   Prob(JB):                        0.204\n",
            "Kurtosis:                       3.051   Cond. No.                     1.21e+03\n",
            "==============================================================================\n",
            "\n",
            "Warnings:\n",
            "[1] Standard Errors assume that the covariance matrix of the errors is correctly specified.\n",
            "[2] The condition number is large, 1.21e+03. This might indicate that there are\n",
            "strong multicollinearity or other numerical problems.\n"
          ]
        }
      ]
    },
    {
      "cell_type": "markdown",
      "metadata": {
        "id": "RI8g5QOsWejK"
      },
      "source": [
        "> Se identifican las variables cuyo `Valor P|t|` es menor a `0.05`, pues son estas las que influyen significativamente en la variable dependiente. \n",
        ">\n",
        "> Para el caso de confianza o aceptación, todas las variables excepto `know_people_sick_percent` y `trust_government_percent` resultan ser significativas para el modelo."
      ]
    },
    {
      "cell_type": "markdown",
      "metadata": {
        "id": "pquA7FCrjscG"
      },
      "source": [
        "> A partir de los coeficientes, se dectecta que `covid_19_percent`, `wear_a_mask_percent`, `trust_WHO_percent`, `trust_family_percent` y `financial_concern_percent` son las variables con mayor correlación. De nueva cuenta, se hace notar que las últimas dos tienen signo negativo, lo cual significa que el grado de aceptación se reduce en la medida que estas variables aumentan."
      ]
    },
    {
      "cell_type": "markdown",
      "metadata": {
        "id": "3lmb0wBKrQ2F"
      },
      "source": [
        "> Finalmente y a modo de resumen, se está prediciendo - con una precisión importante - el grado de aceptación que existe hacia la vacuna, basándose en algunos parámentros de confianza relevantes.\n",
        ">\n",
        ">Por lo anterior, en determinado momento sería posible realizar campañas con la intención de fortalezar las áreas de oportunidad que permitieran incrementar la aceptación.\n",
        ">\n",
        "> Para la predicción se consideran como variables de entrada:\n",
        ">\n",
        "> - `region_zone`\n",
        ">\n",
        "> - `covid_19_percent`\n",
        ">\n",
        "> - `know_people_sick_percent`\n",
        ">\n",
        "> - `wear_a_mask_percent`\n",
        ">\n",
        "> - `financial_concern_percent`\n",
        ">\n",
        "> - `food_lackness_concern_percent`\n",
        ">\n",
        "> - `trust_family_percent`\n",
        ">\n",
        "> - `trust_healthcare_percent`\n",
        ">\n",
        "> - `trust_WHO_percent`\n",
        ">\n",
        "> - `trust_government_percent`\n",
        ">\n",
        "> - `trust_politicians_percent`"
      ]
    },
    {
      "cell_type": "markdown",
      "metadata": {
        "id": "9Les5VIqtAKp"
      },
      "source": [
        "## _4. **Redes neuronales** de clasificación_"
      ]
    },
    {
      "cell_type": "markdown",
      "metadata": {
        "id": "36gR0miGzjRz"
      },
      "source": [
        "#### _4.1. Red neuronal de `Barreras`_"
      ]
    },
    {
      "cell_type": "code",
      "metadata": {
        "id": "uMWOOPhTtAKx"
      },
      "source": [
        "x = df_main_barrier[['region_zone','covid_19_percent','know_people_sick_percent','wear_a_mask_percent','financial_concern_percent','food_lackness_concern_percent']]\n",
        "y = df_main_barrier['high_barrier']"
      ],
      "execution_count": null,
      "outputs": []
    },
    {
      "cell_type": "code",
      "metadata": {
        "id": "T2zsWB10tAKy"
      },
      "source": [
        "x_train, x_test, y_train, y_test = train_test_split(x, y, test_size = 0.7)"
      ],
      "execution_count": null,
      "outputs": []
    },
    {
      "cell_type": "code",
      "metadata": {
        "id": "WAmF-VDAtAKy"
      },
      "source": [
        "n_param = 25 # Número de neuronas contenidas en la capa oculta.\n",
        "redNeuronal = MLPClassifier(alpha = 1e-07, hidden_layer_sizes = (n_param), activation = 'logistic', solver = 'lbfgs', max_iter = 10000)"
      ],
      "execution_count": null,
      "outputs": []
    },
    {
      "cell_type": "code",
      "metadata": {
        "colab": {
          "base_uri": "https://localhost:8080/"
        },
        "id": "xYk2IiratAKy",
        "outputId": "e961a5cb-e317-47f7-8cd7-2ee60d5fb23f"
      },
      "source": [
        "redNeuronal.fit(x_train, y_train) \n",
        "y_pred = redNeuronal.predict(x_test)\n",
        "print(\"Entrenamiento completado!\")"
      ],
      "execution_count": null,
      "outputs": [
        {
          "output_type": "stream",
          "name": "stdout",
          "text": [
            "Entrenamiento completado!\n"
          ]
        }
      ]
    },
    {
      "cell_type": "code",
      "metadata": {
        "colab": {
          "base_uri": "https://localhost:8080/"
        },
        "id": "X9P8JYKckV-v",
        "outputId": "7becc3ac-9d5f-4ca0-8cf9-ecaba6154ad7"
      },
      "source": [
        "for i in range(10):\n",
        "  print(\"X = %s, Predicted = %s\" % (list(round(x_test, 4).iloc[i]), y_pred[i]))\n",
        "print(\"\\n¡Continúa hasta el último elemento de los datos de entrenamiento!...\")"
      ],
      "execution_count": null,
      "outputs": [
        {
          "output_type": "stream",
          "name": "stdout",
          "text": [
            "X = [0.5, 0.0167, 0.2459, 0.9081, 0.6092, 0.4096], Predicted = 0\n",
            "X = [0.75, 0.0209, 0.172, 0.9096, 0.5848, 0.3868], Predicted = 1\n",
            "X = [0.5, 0.0177, 0.2522, 0.92, 0.6007, 0.4144], Predicted = 0\n",
            "X = [0.0, 0.0208, 0.2555, 0.9001, 0.5996, 0.4213], Predicted = 0\n",
            "X = [0.0, 0.0198, 0.1583, 0.9224, 0.5794, 0.3871], Predicted = 0\n",
            "X = [0.0, 0.0196, 0.2467, 0.9071, 0.6172, 0.4242], Predicted = 0\n",
            "X = [1.0, 0.0168, 0.1714, 0.9042, 0.5855, 0.394], Predicted = 0\n",
            "X = [0.0, 0.0186, 0.2492, 0.9105, 0.611, 0.4203], Predicted = 0\n",
            "X = [0.5, 0.0197, 0.2051, 0.9126, 0.5969, 0.4096], Predicted = 0\n",
            "X = [0.0, 0.0173, 0.149, 0.9092, 0.5841, 0.4026], Predicted = 0\n",
            "\n",
            "¡Continúa hasta el último elemento de los datos de entrenamiento!...\n"
          ]
        }
      ]
    },
    {
      "cell_type": "code",
      "metadata": {
        "colab": {
          "base_uri": "https://localhost:8080/"
        },
        "id": "wj6SVdZjtAKz",
        "outputId": "81e179b9-e69e-4ebe-a058-f0a0bc0fe1dc"
      },
      "source": [
        "resultado = confusion_matrix(y_test, y_pred)\n",
        "(TN, FP, FN, TP) = resultado.ravel()\n",
        "\n",
        "print(\"---> ¡Casos! <---\\n\")\n",
        "print(\"Verdaderos positivos: \" + str(TP))\n",
        "print(\"Verdaderos negativos: \" + str(TN))\n",
        "print(\"Falsos positivos: \" + str(FP))\n",
        "print(\"Falsos negativos: \" + str(FN))\n",
        "print(\"\\n---> ¡Métricas de evaluación! <---\\n\")\n",
        "print(\"Sensibilidad:\" + str(calcularSensibilidad(TP, TN, FP, FN)) + \"%\")\n",
        "print(\"Especificidad:\" + str(calcularEspecificidad(TP, TN, FP, FN)) + \"%\")\n",
        "print(\"Exactitud (accuracy):\" + str(calcularAccuracy(TP, TN, FP, FN)) + \"%\")\n",
        "print(\"Precisión:\" + str(calcularPrecision(TP, TN, FP, FN)) + \"%\")"
      ],
      "execution_count": null,
      "outputs": [
        {
          "output_type": "stream",
          "name": "stdout",
          "text": [
            "---> ¡Casos! <---\n",
            "\n",
            "Verdaderos positivos: 84\n",
            "Verdaderos negativos: 1018\n",
            "Falsos positivos: 45\n",
            "Falsos negativos: 169\n",
            "\n",
            "---> ¡Métricas de evaluación! <---\n",
            "\n",
            "Sensibilidad:33.201581027667984%\n",
            "Especificidad:95.76669802445907%\n",
            "Exactitud (accuracy):83.73860182370821%\n",
            "Precisión:65.11627906976744%\n"
          ]
        }
      ]
    },
    {
      "cell_type": "code",
      "metadata": {
        "colab": {
          "base_uri": "https://localhost:8080/",
          "height": 386
        },
        "id": "Z14H2m7okb2A",
        "outputId": "6c52dbe2-2f49-4209-f409-ace24c9e2c55"
      },
      "source": [
        "data = {\"y_actual\": np.array(y_test), \"y_predicted\": np.array(y_pred)}\n",
        "\n",
        "df = pd.DataFrame(data, columns = [\"y_actual\", \"y_predicted\"])\n",
        "\n",
        "confusion_mat = pd.crosstab(df[\"y_actual\"], df[\"y_predicted\"])\n",
        "\n",
        "heatmap = sns.heatmap(confusion_mat, vmin = 0, annot=True, fmt = \"d\", annot_kws = {\"fontsize\": 15, \"fontstyle\": \"italic\"},\n",
        "                      cmap = \"RdPu\", xticklabels = [\"Negativo (0)\", \"Positivo (1)\"], yticklabels = [\"Negativo (0)\", \"Positivo (1)\"])\n",
        "\n",
        "heatmap.set_xticklabels(heatmap.get_xticklabels(), rotation = 90, fontdict = {\"fontsize\": 10, \"fontstyle\": \"italic\"}) \n",
        "heatmap.set_yticklabels(heatmap.get_yticklabels(), rotation = 0, fontdict = {\"fontsize\": 10, \"fontstyle\": \"italic\"})\n",
        "heatmap.set_title(\"Matriz de confusión\", fontdict = {\"fontsize\": 22, \"fontstyle\": \"italic\", \"weight\": \"bold\"}, pad = 20, position = (0.5, 1))\n",
        "heatmap.set_xlabel(\"Predicción\", fontdict = {\"fontsize\": 16, \"fontstyle\": \"italic\"}, labelpad = 18)\n",
        "heatmap.set_ylabel(\"Realidad\", fontdict = {\"fontsize\": 16, \"fontstyle\": \"italic\"}, labelpad = 18)\n",
        "\n",
        "plt.savefig(\"Matriz de confusión (barreras respecto a la vacuna COVID-19).png\")\n",
        "plt.show();"
      ],
      "execution_count": null,
      "outputs": [
        {
          "output_type": "display_data",
          "data": {
            "image/png": "[encoded data removed]",
            "text/plain": [
              "<Figure size 432x288 with 2 Axes>"
            ]
          },
          "metadata": {
            "needs_background": "light"
          }
        }
      ]
    },
    {
      "cell_type": "markdown",
      "metadata": {
        "id": "pCki4paujOaz"
      },
      "source": [
        "> Se da a conocer, en términos de mínimos, máximos y medias, la representación de cada una de las clases que se obtienen de la matriz de confusión. Con esto se pretende reconocer, sólo hasta cierto punto, algunas características que definan a cada sector poblacional clasificado."
      ]
    },
    {
      "cell_type": "code",
      "metadata": {
        "colab": {
          "base_uri": "https://localhost:8080/",
          "height": 380
        },
        "id": "XVFoFzK4kf4g",
        "outputId": "c20a0612-813e-4cda-9237-96a0e2e5f0e7"
      },
      "source": [
        "x_test0 = x_test.copy()\n",
        "x_test0[\"prediction\"] = y_pred\n",
        "x_test0[\"high_barrier\"] = y_test\n",
        "columnas = x.columns.drop(\"region_zone\")\n",
        "\n",
        "for j in [0, 1]:\n",
        "  d0 = {\"mins\": [], \"maxs\": [], \"avgs\": []}\n",
        "  d1 = {\"mins\": [], \"maxs\": [], \"avgs\": []}\n",
        "\n",
        "  for i in columnas:\n",
        "    d0[\"mins\"].append(x_test0[(x_test0[\"prediction\"] == j) & (x_test0[\"high_barrier\"] == int(not(j)))][i].min())\n",
        "    d0[\"maxs\"].append(x_test0[(x_test0[\"prediction\"] == j) & (x_test0[\"high_barrier\"] == int(not(j)))][i].max())\n",
        "    d0[\"avgs\"].append(x_test0[(x_test0[\"prediction\"] == j) & (x_test0[\"high_barrier\"] == int(not(j)))][i].mean())\n",
        "\n",
        "    d1[\"mins\"].append(x_test0[(x_test0[\"prediction\"] == j) & (x_test0[\"high_barrier\"] == j)][i].min())\n",
        "    d1[\"maxs\"].append(x_test0[(x_test0[\"prediction\"] == j) & (x_test0[\"high_barrier\"] == j)][i].max())\n",
        "    d1[\"avgs\"].append(x_test0[(x_test0[\"prediction\"] == j) & (x_test0[\"high_barrier\"] == j)][i].mean())\n",
        "\n",
        "  dfc0 = pd.DataFrame.from_dict({\"Mínimo\": d0[\"mins\"], \"Máximo\": d0[\"maxs\"], \"Media\": d0[\"avgs\"]})\n",
        "  dfc0.set_index(columnas, inplace = True)\n",
        "  if dfc0.isna().sum().sum() == 0:\n",
        "    locals()[\"a\" + str(j)] = dfc0\n",
        "\n",
        "  dfc1 = pd.DataFrame.from_dict({\"Mínimo\": d1[\"mins\"], \"Máximo\": d1[\"maxs\"], \"Media\": d1[\"avgs\"]})\n",
        "  dfc1.set_index(columnas, inplace = True)\n",
        "  if dfc1.isna().sum().sum() == 0:\n",
        "    locals()[\"b\" + str(j)] = dfc1\n",
        "# ------------------------------------------------------------------------------------------------------------------------------------------------------------ #\n",
        "\n",
        "if (\"a0\" in locals()) & (\"a1\" in locals()):\n",
        "  fig, (ax0, ax1, ax2, ax3) = plt.subplots(nrows = 1, ncols = 4, figsize = (25, 8), sharex = True, sharey = True)\n",
        "else:\n",
        "  if (\"a0\" in locals()) | (\"a1\" in locals()):\n",
        "    if \"a0\" in locals():\n",
        "      fig, (ax0, ax2, ax3) = plt.subplots(nrows = 1, ncols = 3, figsize = (25, 8), sharex = True, sharey = True)\n",
        "    else:\n",
        "      fig, (ax1, ax2, ax3) = plt.subplots(nrows = 1, ncols = 3, figsize = (25, 8), sharex = True, sharey = True)\n",
        "  else:\n",
        "    fig, (ax2, ax3) = plt.subplots(nrows = 1, ncols = 2, figsize = (25, 8), sharex = True, sharey = True)\n",
        "\n",
        "if \"a0\" in locals():\n",
        "  sns.heatmap(round(a0 * 100, 2), annot = True, annot_kws = {\"fontsize\": 14}, linewidths = 3, linecolor = \"w\", fmt = \".2f\",\n",
        "              cbar = False, cmap = \"Greens\", ax = ax0) # Predicción: 0 / Realidad: 1\n",
        "if \"a1\" in locals():\n",
        "  sns.heatmap(round(a1 * 100, 2), annot = True, annot_kws = {\"fontsize\": 14}, linewidths = 3, linecolor = \"w\", fmt = \".2f\",\n",
        "              cbar = False, cmap = \"Greens\", ax = ax1) # Predicción: 1 / Realidad: 0\n",
        "\n",
        "sns.heatmap(round(b0 * 100, 2), annot = True, annot_kws = {\"fontsize\": 14}, linewidths = 3, linecolor = \"w\", fmt = \".2f\",\n",
        "            cbar = False, cmap = \"Greens\", ax = ax2) # Predicción: 0 / Realidad: 0\n",
        "\n",
        "sns.heatmap(round(b1 * 100, 2), annot = True, annot_kws = {\"fontsize\": 14}, linewidths = 3, linecolor = \"w\", fmt = \".2f\",\n",
        "            cbar = False, cmap = \"Greens\", ax = ax3); # Predicción: 1 / Realidad: 1\n",
        "\n",
        "if \"a0\" in locals():\n",
        "  ax0.set_title(\"Falsos negativos\", fontdict = {\"fontsize\": 15, \"fontstyle\": \"italic\", \"weight\": \"bold\"}, pad = 15)\n",
        "if \"a1\" in locals():\n",
        "  ax1.set_title(\"Falsos positivos\", fontdict = {\"fontsize\": 15, \"fontstyle\": \"italic\", \"weight\": \"bold\"}, pad = 15)\n",
        "\n",
        "ax2.set_title(\"Verdaderos negativos\", fontdict = {\"fontsize\": 15, \"fontstyle\": \"italic\", \"weight\": \"bold\"}, pad = 15)\n",
        "ax3.set_title(\"Verdaderos positivos\", fontdict = {\"fontsize\": 15, \"fontstyle\": \"italic\", \"weight\": \"bold\"}, pad = 15)\n",
        "\n",
        "plt.savefig(\"Descriptores (barreras respecto a la vacuna COVID-19).png\")\n",
        "plt.show();"
      ],
      "execution_count": null,
      "outputs": [
        {
          "output_type": "display_data",
          "data": {
            "image/png": "[encoded data removed]",
            "text/plain": [
              "<Figure size 1800x576 with 4 Axes>"
            ]
          },
          "metadata": {
            "needs_background": "light"
          }
        }
      ]
    },
    {
      "cell_type": "markdown",
      "metadata": {
        "id": "-oNzhXHEtAKz"
      },
      "source": [
        "> En términos generales, se está prediciendo los días que habrá un alto rechazo a la vacuna.\n",
        ">\n",
        "> Una de las particulares relevancias de predecir el rechazo sería, por ejemplo, poder elegir qué días hacer una labor adicional que busque persuadir a la gente de la importancia que tiene vacunarse.\n",
        ">\n",
        "> Nótese que para esta predicción se consideraron, como variables de entrada, únicamente las siguientes:\n",
        ">\n",
        "> - `region_zone`\n",
        ">\n",
        "> - `covid_19_percent`\n",
        ">\n",
        "> - `know_people_sick_percent`\n",
        ">\n",
        "> - `wear_a_mask_percent`\n",
        ">\n",
        "> - `financial_concern_percent`\n",
        ">\n",
        "> - `food_lackness_concern_percent`"
      ]
    },
    {
      "cell_type": "markdown",
      "metadata": {
        "id": "4rcZK_zszqCi"
      },
      "source": [
        "#### _4.2. Red neuronal de `Aceptación`_"
      ]
    },
    {
      "cell_type": "code",
      "metadata": {
        "id": "MH3p3cGv4VdT"
      },
      "source": [
        "x = df_main_trust[['region_zone','covid_19_percent','know_people_sick_percent','wear_a_mask_percent','financial_concern_percent','food_lackness_concern_percent','trust_politicians_percent','trust_government_percent','trust_WHO_percent','trust_healthcare_percent','trust_family_percent']]\n",
        "y = df_main_trust['positive_accept']"
      ],
      "execution_count": null,
      "outputs": []
    },
    {
      "cell_type": "code",
      "metadata": {
        "id": "hv9D6oOw3TgT"
      },
      "source": [
        "x_train, x_test, y_train, y_test = train_test_split(x, y, test_size = 0.7)"
      ],
      "execution_count": null,
      "outputs": []
    },
    {
      "cell_type": "code",
      "metadata": {
        "id": "_UcGeAdf3TgT"
      },
      "source": [
        "n_param = 25 # Número de neuronas contenidas en la capa oculta.\n",
        "redNeuronal = MLPClassifier(alpha=1e-07, hidden_layer_sizes=(n_param), activation='logistic', solver='lbfgs',max_iter=10000)"
      ],
      "execution_count": null,
      "outputs": []
    },
    {
      "cell_type": "code",
      "metadata": {
        "colab": {
          "base_uri": "https://localhost:8080/"
        },
        "id": "36XbS1-O3TgU",
        "outputId": "97512c5a-28bb-46b8-e753-968094b885af"
      },
      "source": [
        "redNeuronal.fit(x_train, y_train) \n",
        "y_pred = redNeuronal.predict(x_test)\n",
        "print(\"Entrenamiento completado!\")"
      ],
      "execution_count": null,
      "outputs": [
        {
          "output_type": "stream",
          "name": "stdout",
          "text": [
            "Entrenamiento completado!\n"
          ]
        }
      ]
    },
    {
      "cell_type": "code",
      "metadata": {
        "colab": {
          "base_uri": "https://localhost:8080/"
        },
        "id": "rb-r8OUc23Kl",
        "outputId": "3809443f-acea-4daa-e31e-0cc704468692"
      },
      "source": [
        "for i in range(10):\n",
        "  print(\"X = %s, Predicted = %s\" % (list(round(x_test, 4).iloc[i]), y_pred[i]))\n",
        "print(\"\\n¡Continúa hasta el último elemento de entrenamiento!...\")"
      ],
      "execution_count": null,
      "outputs": [
        {
          "output_type": "stream",
          "name": "stdout",
          "text": [
            "X = [0.75, 0.0257, 0.2958, 0.8967, 0.6014, 0.4129, 0.3627, 0.6516, 0.757, 0.7211, 0.648], Predicted = 0\n",
            "X = [0.75, 0.0203, 0.269, 0.9045, 0.637, 0.4329, 0.3432, 0.6575, 0.7684, 0.7212, 0.6449], Predicted = 0\n",
            "X = [0.75, 0.0212, 0.3198, 0.9039, 0.62, 0.4396, 0.2618, 0.6449, 0.7781, 0.6812, 0.5663], Predicted = 1\n",
            "X = [0.75, 0.0217, 0.3055, 0.9046, 0.613, 0.4292, 0.2658, 0.6345, 0.7817, 0.6731, 0.5677], Predicted = 1\n",
            "X = [1.0, 0.0218, 0.3208, 0.9041, 0.628, 0.4309, 0.2872, 0.6475, 0.7907, 0.6879, 0.5851], Predicted = 1\n",
            "X = [0.75, 0.0284, 0.3092, 0.904, 0.6298, 0.4311, 0.3623, 0.6682, 0.7731, 0.733, 0.6724], Predicted = 0\n",
            "X = [0.0, 0.0284, 0.3478, 0.9007, 0.6321, 0.4516, 0.2981, 0.6636, 0.7933, 0.7071, 0.614], Predicted = 1\n",
            "X = [1.0, 0.0252, 0.3303, 0.8975, 0.629, 0.4451, 0.3664, 0.6619, 0.7697, 0.7387, 0.6805], Predicted = 0\n",
            "X = [0.75, 0.0278, 0.3124, 0.9006, 0.6132, 0.4231, 0.365, 0.6755, 0.7763, 0.7459, 0.6841], Predicted = 0\n",
            "X = [0.75, 0.0196, 0.3331, 0.9073, 0.6281, 0.4442, 0.2923, 0.6525, 0.8077, 0.6952, 0.579], Predicted = 1\n",
            "\n",
            "¡Continúa hasta el último elemento de entrenamiento!...\n"
          ]
        }
      ]
    },
    {
      "cell_type": "code",
      "metadata": {
        "colab": {
          "base_uri": "https://localhost:8080/"
        },
        "id": "Aq1-JI3w3TgV",
        "outputId": "fe502a78-50b8-420c-df19-1498f0e399e0"
      },
      "source": [
        "resultado = confusion_matrix(y_test, y_pred)\n",
        "(TN, FP, FN, TP) = resultado.ravel()\n",
        "\n",
        "print(\"---> ¡Casos! <---\\n\")\n",
        "print(\"Verdaderos positivos: \" + str(TP))\n",
        "print(\"Verdaderos negativos: \" + str(TN))\n",
        "print(\"Falsos positivos: \" + str(FP))\n",
        "print(\"Falsos negativos: \" + str(FN))\n",
        "print(\"\\n---> ¡Métricas de evaluación! <---\\n\")\n",
        "print(\"Sensibilidad:\" + str(calcularSensibilidad(TP, TN, FP, FN)) + \"%\")\n",
        "print(\"Especificidad:\" + str(calcularEspecificidad(TP, TN, FP, FN)) + \"%\")\n",
        "print(\"Exactitud (accuracy):\" + str(calcularAccuracy(TP, TN, FP, FN)) + \"%\")\n",
        "print(\"Precisión:\" + str(calcularPrecision(TP, TN, FP, FN)) + \"%\")"
      ],
      "execution_count": null,
      "outputs": [
        {
          "output_type": "stream",
          "name": "stdout",
          "text": [
            "---> ¡Casos! <---\n",
            "\n",
            "Verdaderos positivos: 560\n",
            "Verdaderos negativos: 547\n",
            "Falsos positivos: 0\n",
            "Falsos negativos: 0\n",
            "\n",
            "---> ¡Métricas de evaluación! <---\n",
            "\n",
            "Sensibilidad:100.0%\n",
            "Especificidad:100.0%\n",
            "Exactitud (accuracy):100.0%\n",
            "Precisión:100.0%\n"
          ]
        }
      ]
    },
    {
      "cell_type": "code",
      "metadata": {
        "colab": {
          "base_uri": "https://localhost:8080/"
        },
        "id": "Ln1suV4uANRI",
        "outputId": "c92a4845-95c6-4d84-b9ab-b3d7aedc69c8"
      },
      "source": [
        "data = {\"y_actual\": np.array(y_test), \"y_predicted\": np.array(y_pred)}\n",
        "\n",
        "df = pd.DataFrame(data, columns = [\"y_actual\", \"y_predicted\"])\n",
        "\n",
        "confusion_mat = pd.crosstab(df[\"y_actual\"], df[\"y_predicted\"])\n",
        "\n",
        "heatmap = sns.heatmap(confusion_mat, vmin = 0, annot=True, fmt = \"d\", annot_kws = {\"fontsize\": 15, \"fontstyle\": \"italic\"},\n",
        "                      cmap = \"RdPu\", xticklabels = [\"Negativo (0)\", \"Positivo (1)\"], yticklabels = [\"Negativo (0)\", \"Positivo (1)\"])\n",
        "\n",
        "heatmap.set_xticklabels(heatmap.get_xticklabels(), rotation = 90, fontdict = {\"fontsize\": 10, \"fontstyle\": \"italic\"}) \n",
        "heatmap.set_yticklabels(heatmap.get_yticklabels(), rotation = 0, fontdict = {\"fontsize\": 10, \"fontstyle\": \"italic\"})\n",
        "heatmap.set_title(\"Matriz de confusión\", fontdict = {\"fontsize\": 22, \"fontstyle\": \"italic\", \"weight\": \"bold\"}, pad = 20, position = (0.5, 1))\n",
        "heatmap.set_xlabel(\"Predicción\", fontdict = {\"fontsize\": 16, \"fontstyle\": \"italic\"}, labelpad = 18)\n",
        "heatmap.set_ylabel(\"Realidad\", fontdict = {\"fontsize\": 16, \"fontstyle\": \"italic\"}, labelpad = 18)\n",
        "\n",
        "plt.savefig(\"Matriz de confusión (aceptación de la vacuna COVID-19).png\")\n",
        "plt.show();"
      ],
      "execution_count": null,
      "outputs": [
        {
          "output_type": "display_data",
          "data": {
            "image/png": "[encoded data removed]",
            "text/plain": [
              "<Figure size 432x288 with 2 Axes>"
            ]
          },
          "metadata": {
            "needs_background": "light"
          }
        }
      ]
    },
    {
      "cell_type": "markdown",
      "metadata": {
        "id": "m9fuN6HHg9dH"
      },
      "source": [
        "> Se da a conocer, en términos de mínimos, máximos y medias, la representación de cada una de las clases que se obtienen de la matriz de confusión. Con esto se pretende reconocer, sólo hasta cierto punto, algunas características que definan a cada sector poblacional clasificado."
      ]
    },
    {
      "cell_type": "code",
      "metadata": {
        "colab": {
          "base_uri": "https://localhost:8080/"
        },
        "id": "PxFgkDvH3KAR",
        "outputId": "97b1cc20-5687-44c1-a0c2-fc163057af00"
      },
      "source": [
        "x_test0 = x_test.copy()\n",
        "x_test0[\"prediction\"] = y_pred\n",
        "x_test0[\"high_barrier\"] = y_test\n",
        "columnas = x.columns.drop(\"region_zone\")\n",
        "\n",
        "for j in [0, 1]:\n",
        "  d0 = {\"mins\": [], \"maxs\": [], \"avgs\": []}\n",
        "  d1 = {\"mins\": [], \"maxs\": [], \"avgs\": []}\n",
        "\n",
        "  for i in columnas:\n",
        "    d0[\"mins\"].append(x_test0[(x_test0[\"prediction\"] == j) & (x_test0[\"high_barrier\"] == int(not(j)))][i].min())\n",
        "    d0[\"maxs\"].append(x_test0[(x_test0[\"prediction\"] == j) & (x_test0[\"high_barrier\"] == int(not(j)))][i].max())\n",
        "    d0[\"avgs\"].append(x_test0[(x_test0[\"prediction\"] == j) & (x_test0[\"high_barrier\"] == int(not(j)))][i].mean())\n",
        "\n",
        "    d1[\"mins\"].append(x_test0[(x_test0[\"prediction\"] == j) & (x_test0[\"high_barrier\"] == j)][i].min())\n",
        "    d1[\"maxs\"].append(x_test0[(x_test0[\"prediction\"] == j) & (x_test0[\"high_barrier\"] == j)][i].max())\n",
        "    d1[\"avgs\"].append(x_test0[(x_test0[\"prediction\"] == j) & (x_test0[\"high_barrier\"] == j)][i].mean())\n",
        "\n",
        "  dfc0 = pd.DataFrame.from_dict({\"Mínimo\": d0[\"mins\"], \"Máximo\": d0[\"maxs\"], \"Media\": d0[\"avgs\"]})\n",
        "  dfc0.set_index(columnas, inplace = True)\n",
        "  if dfc0.isna().sum().sum() == 0:\n",
        "    locals()[\"c\" + str(j)] = dfc0\n",
        "\n",
        "  dfc1 = pd.DataFrame.from_dict({\"Mínimo\": d1[\"mins\"], \"Máximo\": d1[\"maxs\"], \"Media\": d1[\"avgs\"]})\n",
        "  dfc1.set_index(columnas, inplace = True)\n",
        "  if dfc1.isna().sum().sum() == 0:\n",
        "    locals()[\"e\" + str(j)] = dfc1\n",
        "# ------------------------------------------------------------------------------------------------------------------------------------------------------------ #\n",
        "\n",
        "if (\"c0\" in locals()) & (\"c1\" in locals()):\n",
        "  fig, (ax0, ax1, ax2, ax3) = plt.subplots(nrows = 1, ncols = 4, figsize = (25, 8), sharex = True, sharey = True)\n",
        "else:\n",
        "  if (\"c0\" in locals()) | (\"c1\" in locals()):\n",
        "    if \"c0\" in locals():\n",
        "      fig, (ax0, ax2, ax3) = plt.subplots(nrows = 1, ncols = 3, figsize = (25, 8), sharex = True, sharey = True)\n",
        "    else:\n",
        "      fig, (ax1, ax2, ax3) = plt.subplots(nrows = 1, ncols = 3, figsize = (25, 8), sharex = True, sharey = True)\n",
        "  else:\n",
        "    fig, (ax2, ax3) = plt.subplots(nrows = 1, ncols = 2, figsize = (25, 8), sharex = True, sharey = True)\n",
        "\n",
        "if \"c0\" in locals():\n",
        "  sns.heatmap(round(c0 * 100, 2), annot = True, annot_kws = {\"fontsize\": 14}, linewidths = 3, linecolor = \"w\", fmt = \".2f\",\n",
        "              cbar = False, cmap = \"Greens\", ax = ax0) # Predicción: 0 / Realidad: 1\n",
        "if \"c1\" in locals():\n",
        "  sns.heatmap(round(c1 * 100, 2), annot = True, annot_kws = {\"fontsize\": 14}, linewidths = 3, linecolor = \"w\", fmt = \".2f\",\n",
        "              cbar = False, cmap = \"Greens\", ax = ax1) # Predicción: 1 / Realidad: 0\n",
        "\n",
        "sns.heatmap(round(e0 * 100, 2), annot = True, annot_kws = {\"fontsize\": 14}, linewidths = 3, linecolor = \"w\", fmt = \".2f\",\n",
        "            cbar = False, cmap = \"Greens\", ax = ax2) # Predicción: 0 / Realidad: 0\n",
        "\n",
        "sns.heatmap(round(e1 * 100, 2), annot = True, annot_kws = {\"fontsize\": 14}, linewidths = 3, linecolor = \"w\", fmt = \".2f\",\n",
        "            cbar = False, cmap = \"Greens\", ax = ax3); # Predicción: 1 / Realidad: 1\n",
        "\n",
        "if \"c0\" in locals():\n",
        "  ax0.set_title(\"Falsos negativos\", fontdict = {\"fontsize\": 15, \"fontstyle\": \"italic\", \"weight\": \"bold\"}, pad = 15)\n",
        "if \"c1\" in locals():\n",
        "  ax1.set_title(\"Falsos positivos\", fontdict = {\"fontsize\": 15, \"fontstyle\": \"italic\", \"weight\": \"bold\"}, pad = 15)\n",
        "\n",
        "ax2.set_title(\"Verdaderos negativos\", fontdict = {\"fontsize\": 15, \"fontstyle\": \"italic\", \"weight\": \"bold\"}, pad = 15)\n",
        "ax3.set_title(\"Verdaderos positivos\", fontdict = {\"fontsize\": 15, \"fontstyle\": \"italic\", \"weight\": \"bold\"}, pad = 15)\n",
        "\n",
        "plt.savefig(\"Descriptores (aceptación de la vacuna COVID-19).png\")\n",
        "plt.show();"
      ],
      "execution_count": null,
      "outputs": [
        {
          "output_type": "display_data",
          "data": {
            "image/png": "[encoded data removed]",
            "text/plain": [
              "<Figure size 1800x576 with 2 Axes>"
            ]
          },
          "metadata": {
            "needs_background": "light"
          }
        }
      ]
    },
    {
      "cell_type": "markdown",
      "metadata": {
        "id": "TYVGTU2lDj8H"
      },
      "source": [
        "> En resumen, se esta prediciendo los días que habrá un buena aceptación a la vacuna.\n",
        ">\n",
        "> Una de las particulares relevancias de predecir la aceptación sería, por ejemplo, evaluar el avance de la jornada de vacunación.\n",
        ">\n",
        "> Nótese que para esta predicción se consideraron, como variables de entrada, únicamente las siguientes:\n",
        ">\n",
        "> - `region_zone`\n",
        ">\n",
        "> - `covid_19_percent`\n",
        ">\n",
        "> - `know_people_sick_percent`\n",
        ">\n",
        "> - `wear_a_mask_percent`\n",
        ">\n",
        "> - `financial_concern_percent`\n",
        ">\n",
        "> - `food_lackness_concern_percent`\n",
        ">\n",
        "> - `trust_politicians_percent`\n",
        ">\n",
        "> - `trust_government_percent`\n",
        ">\n",
        "> - `trust_WHO_percent`\n",
        ">\n",
        "> - `trust_healthcare_percent`\n",
        ">\n",
        "> - `trust_family_percent`"
      ]
    },
    {
      "cell_type": "markdown",
      "metadata": {
        "id": "5nCHV6uZ9r8g"
      },
      "source": [
        "#### _4.3 `Extra` -- Red Neuronal de `Barreras`, usando los resultados de nuestra encuesta_"
      ]
    },
    {
      "cell_type": "markdown",
      "metadata": {
        "id": "HiWN0zQQf1vR"
      },
      "source": [
        "> Como un ejercicio extra, probamos cargar los resultados de nuestra encuesta que realizamos entre los integrantes de este curso, preguntando acerca de diferentes cuestiones relacionadas al COVID.\n",
        "\n",
        "> Puede ver nuestra encuesta aquí: https://docs.google.com/forms/d/e/1FAIpQLSeL7c3874LXQf1yZImopatvvVS0eaAWPw1GAgXofDiqhnJ2yA/viewform\n",
        "\n",
        "> Cabe recalcar que los datos que estamos usando llegan hasta el 4 de noviembre."
      ]
    },
    {
      "cell_type": "markdown",
      "metadata": {
        "id": "dWLSD0eBR5FX"
      },
      "source": [
        "##### Cargando nuestros datos de encuesta"
      ]
    },
    {
      "cell_type": "markdown",
      "metadata": {
        "id": "D5hXy6gjhBKr"
      },
      "source": [
        "> Después de descargar los resultados de google, los procesamos un poco de manera manual para asegurar que no hayan problemas de formato. También dividimos la pregunta acerca de las barreras en diferentes columnas para tener un si o un no en lugar de una respuesta con diferentes opciones."
      ]
    },
    {
      "cell_type": "code",
      "metadata": {
        "id": "0UxMNTu4-J1W"
      },
      "source": [
        "encuesta = pd.read_csv(\"https://raw.githubusercontent.com/armando-lv/BEDU-Eq3-MLearning/main/Datasets/resultados_encuesta.csv\")"
      ],
      "execution_count": null,
      "outputs": []
    },
    {
      "cell_type": "code",
      "metadata": {
        "id": "lTLeQdkZEMPv"
      },
      "source": [
        "import copy"
      ],
      "execution_count": null,
      "outputs": []
    },
    {
      "cell_type": "code",
      "metadata": {
        "id": "s8GqWOg7ANur"
      },
      "source": [
        "# Cambiamos todos los \"Si\" a un 1, y todos los \"No\" a un 0\n",
        "enc_nums = copy.deepcopy(encuesta)\n",
        "for col in enc_nums.columns[2:]:\n",
        "  enc_nums[col] = enc_nums[col].apply(lambda x: 1 if x == \"Si\" else 0)\n",
        "  enc_nums[col] = enc_nums[col].apply(lambda x: int(x))"
      ],
      "execution_count": null,
      "outputs": []
    },
    {
      "cell_type": "code",
      "metadata": {
        "id": "I1IknK5PJh4R"
      },
      "source": [
        "# Para cada renglón (o sea cada respuesta) agregamos otra columna que tiene como valor 1 si tiene alguna barrera para vacunarse, 0 si no tiene ninguna barrera\n",
        "vbars = []\n",
        "for row in range(0, len(enc_nums)):\n",
        "  if 1 in list(enc_nums.iloc[row, 6:10]):\n",
        "    vbars.append(1)\n",
        "  else:\n",
        "    vbars.append(0)\n",
        "enc_nums[\"any_vaccine_barriers\"] = vbars"
      ],
      "execution_count": null,
      "outputs": []
    },
    {
      "cell_type": "code",
      "metadata": {
        "id": "8eKS471mA12f"
      },
      "source": [
        "# Agrupamos nuestros resultados por día y por región, para tener un formato similar al que usamos en las redes neuronales anteriores\n",
        "enc_group = enc_nums.groupby([\"Fecha de hoy\", \"region\"]).mean().reset_index()"
      ],
      "execution_count": null,
      "outputs": []
    },
    {
      "cell_type": "code",
      "metadata": {
        "id": "n52yPgVtQsa8"
      },
      "source": [
        "enc_group = enc_group.iloc[:, 1:].applymap(lambda x: int(x))"
      ],
      "execution_count": null,
      "outputs": []
    },
    {
      "cell_type": "markdown",
      "metadata": {
        "id": "nkBM3Ka5R-Vb"
      },
      "source": [
        "##### Ejecutando nuestro modelo"
      ]
    },
    {
      "cell_type": "code",
      "metadata": {
        "id": "BnmeFoSTJKI7"
      },
      "source": [
        "x = enc_group[[\"region\", \"covid_19\", \"know_people_symptoms\", \"financial_concern\", \"food_lackness_concern\", \"received_vaccine\", \"trust_friends\", \"trust_local_centers\", \"trust_oms\", \"trust_government\", \"trust_politicians\"]]\n",
        "y = enc_group['any_vaccine_barriers']"
      ],
      "execution_count": null,
      "outputs": []
    },
    {
      "cell_type": "code",
      "metadata": {
        "id": "t7585mX4JKI9"
      },
      "source": [
        "x_train, x_test, y_train, y_test = train_test_split(x, y, test_size = 0.66)"
      ],
      "execution_count": null,
      "outputs": []
    },
    {
      "cell_type": "code",
      "metadata": {
        "id": "IHESwMBBJKI-"
      },
      "source": [
        "n_param = 25 # Número de neuronas contenidas en la capa oculta.\n",
        "redNeuronal = MLPClassifier(alpha = 1e-07, hidden_layer_sizes = (n_param), activation = 'logistic', solver = 'lbfgs', max_iter = 10000)"
      ],
      "execution_count": null,
      "outputs": []
    },
    {
      "cell_type": "code",
      "metadata": {
        "colab": {
          "base_uri": "https://localhost:8080/"
        },
        "id": "K9Oe6eN7JKI_",
        "outputId": "d303aa4d-41e5-479d-85b8-cc1494044c54"
      },
      "source": [
        "redNeuronal.fit(x_train, y_train) \n",
        "y_pred = redNeuronal.predict(x_test)\n",
        "print(\"Entrenamiento completado!\")"
      ],
      "execution_count": null,
      "outputs": [
        {
          "output_type": "stream",
          "name": "stdout",
          "text": [
            "Entrenamiento completado!\n"
          ]
        }
      ]
    },
    {
      "cell_type": "code",
      "metadata": {
        "colab": {
          "base_uri": "https://localhost:8080/"
        },
        "id": "-kYnihtdJKI_",
        "outputId": "b2484bef-26fc-4678-f1d9-c7688f905d39"
      },
      "source": [
        "for i in range(4):\n",
        "  print(\"X = %s, Predicted = %s\" % (list(round(x_test, 4).iloc[i]), y_pred[i]))\n",
        "print(\"\\n¡Continúa hasta el último elemento de los datos de entrenamiento!...\")"
      ],
      "execution_count": null,
      "outputs": [
        {
          "output_type": "stream",
          "name": "stdout",
          "text": [
            "X = [0, 0, 0, 0, 0, 1, 0, 0, 0, 0, 0], Predicted = 0\n",
            "X = [0, 0, 0, 0, 0, 1, 0, 1, 1, 1, 0], Predicted = 0\n",
            "X = [0, 0, 0, 0, 0, 1, 0, 1, 1, 1, 0], Predicted = 0\n",
            "X = [0, 0, 0, 0, 0, 1, 0, 1, 1, 0, 0], Predicted = 0\n",
            "\n",
            "¡Continúa hasta el último elemento de los datos de entrenamiento!...\n"
          ]
        }
      ]
    },
    {
      "cell_type": "code",
      "metadata": {
        "colab": {
          "base_uri": "https://localhost:8080/"
        },
        "id": "-56WP6Q4JKJA",
        "outputId": "28ee3132-bd2b-42f7-91fc-a012fa8a1d7a"
      },
      "source": [
        "resultado = confusion_matrix(y_test, y_pred)\n",
        "(TN, FP, FN, TP) = resultado.ravel()\n",
        "\n",
        "print(\"---> ¡Casos! <---\\n\")\n",
        "print(\"Verdaderos positivos: \" + str(TP))\n",
        "print(\"Verdaderos negativos: \" + str(TN))\n",
        "print(\"Falsos positivos: \" + str(FP))\n",
        "print(\"Falsos negativos: \" + str(FN))\n",
        "print(\"\\n---> ¡Métricas de evaluación! <---\\n\")\n",
        "print(\"Sensibilidad:\" + str(calcularSensibilidad(TP, TN, FP, FN)) + \"%\")\n",
        "print(\"Especificidad:\" + str(calcularEspecificidad(TP, TN, FP, FN)) + \"%\")\n",
        "print(\"Exactitud (accuracy):\" + str(calcularAccuracy(TP, TN, FP, FN)) + \"%\")\n",
        "print(\"Precisión:\" + str(calcularPrecision(TP, TN, FP, FN)) + \"%\")"
      ],
      "execution_count": null,
      "outputs": [
        {
          "output_type": "stream",
          "name": "stdout",
          "text": [
            "---> ¡Casos! <---\n",
            "\n",
            "Verdaderos positivos: 0\n",
            "Verdaderos negativos: 2\n",
            "Falsos positivos: 0\n",
            "Falsos negativos: 2\n",
            "\n",
            "---> ¡Métricas de evaluación! <---\n",
            "\n",
            "Sensibilidad:0.0%\n",
            "Especificidad:100.0%\n",
            "Exactitud (accuracy):50.0%\n",
            "Precisión:nan%\n"
          ]
        },
        {
          "output_type": "stream",
          "name": "stderr",
          "text": [
            "/usr/local/lib/python3.7/dist-packages/ipykernel_launcher.py:2: RuntimeWarning: invalid value encountered in long_scalars\n",
            "  \n"
          ]
        }
      ]
    },
    {
      "cell_type": "code",
      "metadata": {
        "colab": {
          "base_uri": "https://localhost:8080/",
          "height": 386
        },
        "id": "4wkv69xCJKJB",
        "outputId": "c31a07ab-104d-4f42-e290-8790b0aff602"
      },
      "source": [
        "data = {\"y_actual\": np.array(y_test), \"y_predicted\": np.array(y_pred)}\n",
        "\n",
        "df = pd.DataFrame(data, columns = [\"y_actual\", \"y_predicted\"])\n",
        "\n",
        "confusion_mat = pd.crosstab(df[\"y_actual\"], df[\"y_predicted\"])\n",
        "\n",
        "heatmap = sns.heatmap(confusion_mat, vmin = 0, annot=True, fmt = \"d\", annot_kws = {\"fontsize\": 15, \"fontstyle\": \"italic\"},\n",
        "                      cmap = \"RdPu\", xticklabels = [\"Negativo (0)\", \"Positivo (1)\"], yticklabels = [\"Negativo (0)\", \"Positivo (1)\"])\n",
        "\n",
        "heatmap.set_xticklabels(heatmap.get_xticklabels(), rotation = 90, fontdict = {\"fontsize\": 10, \"fontstyle\": \"italic\"}) \n",
        "heatmap.set_yticklabels(heatmap.get_yticklabels(), rotation = 0, fontdict = {\"fontsize\": 10, \"fontstyle\": \"italic\"})\n",
        "heatmap.set_title(\"Matriz de confusión\", fontdict = {\"fontsize\": 22, \"fontstyle\": \"italic\", \"weight\": \"bold\"}, pad = 20, position = (0.5, 1))\n",
        "heatmap.set_xlabel(\"Predicción\", fontdict = {\"fontsize\": 16, \"fontstyle\": \"italic\"}, labelpad = 18)\n",
        "heatmap.set_ylabel(\"Realidad\", fontdict = {\"fontsize\": 16, \"fontstyle\": \"italic\"}, labelpad = 18)\n",
        "\n",
        "plt.savefig(\"Matriz de confusión (barreras respecto a la vacuna COVID-19).png\")\n",
        "plt.show();"
      ],
      "execution_count": null,
      "outputs": [
        {
          "output_type": "display_data",
          "data": {
            "image/png": "[encoded data removed]",
            "text/plain": [
              "<Figure size 432x288 with 2 Axes>"
            ]
          },
          "metadata": {
            "needs_background": "light"
          }
        }
      ]
    },
    {
      "cell_type": "markdown",
      "metadata": {
        "id": "8q_cpfcIJKJC"
      },
      "source": [
        "> Se da a conocer, en términos de mínimos, máximos y medias, la representación de cada una de las clases que se obtienen de la matriz de confusión. Con esto se pretende reconocer, sólo hasta cierto punto, algunas características que definan a cada sector poblacional clasificado."
      ]
    },
    {
      "cell_type": "code",
      "metadata": {
        "colab": {
          "base_uri": "https://localhost:8080/",
          "height": 416
        },
        "id": "ScCUuHIlJKJD",
        "outputId": "3ba354b7-1a11-422c-d7c6-c8e0ca480767"
      },
      "source": [
        "x_test0 = x_test.copy()\n",
        "x_test0[\"prediction\"] = y_pred\n",
        "x_test0[\"high_barrier\"] = y_test\n",
        "columnas = x.columns.drop(\"region\")\n",
        "\n",
        "for j in [0, 1]:\n",
        "  d0 = {\"mins\": [], \"maxs\": [], \"avgs\": []}\n",
        "  d1 = {\"mins\": [], \"maxs\": [], \"avgs\": []}\n",
        "\n",
        "  for i in columnas:\n",
        "    d0[\"mins\"].append(x_test0[(x_test0[\"prediction\"] == j) & (x_test0[\"high_barrier\"] == int(not(j)))][i].min())\n",
        "    d0[\"maxs\"].append(x_test0[(x_test0[\"prediction\"] == j) & (x_test0[\"high_barrier\"] == int(not(j)))][i].max())\n",
        "    d0[\"avgs\"].append(x_test0[(x_test0[\"prediction\"] == j) & (x_test0[\"high_barrier\"] == int(not(j)))][i].mean())\n",
        "\n",
        "    d1[\"mins\"].append(x_test0[(x_test0[\"prediction\"] == j) & (x_test0[\"high_barrier\"] == j)][i].min())\n",
        "    d1[\"maxs\"].append(x_test0[(x_test0[\"prediction\"] == j) & (x_test0[\"high_barrier\"] == j)][i].max())\n",
        "    d1[\"avgs\"].append(x_test0[(x_test0[\"prediction\"] == j) & (x_test0[\"high_barrier\"] == j)][i].mean())\n",
        "\n",
        "  dfc0 = pd.DataFrame.from_dict({\"Mínimo\": d0[\"mins\"], \"Máximo\": d0[\"maxs\"], \"Media\": d0[\"avgs\"]})\n",
        "  dfc0.set_index(columnas, inplace = True)\n",
        "  if dfc0.isna().sum().sum() == 0:\n",
        "    locals()[\"a\" + str(j)] = dfc0\n",
        "\n",
        "  dfc1 = pd.DataFrame.from_dict({\"Mínimo\": d1[\"mins\"], \"Máximo\": d1[\"maxs\"], \"Media\": d1[\"avgs\"]})\n",
        "  dfc1.set_index(columnas, inplace = True)\n",
        "  if dfc1.isna().sum().sum() == 0:\n",
        "    locals()[\"b\" + str(j)] = dfc1\n",
        "# ------------------------------------------------------------------------------------------------------------------------------------------------------------ #\n",
        "\n",
        "if (\"a0\" in locals()) & (\"a1\" in locals()):\n",
        "  fig, (ax0, ax1, ax2, ax3) = plt.subplots(nrows = 1, ncols = 4, figsize = (25, 8), sharex = True, sharey = True)\n",
        "else:\n",
        "  if (\"a0\" in locals()) | (\"a1\" in locals()):\n",
        "    if \"a0\" in locals():\n",
        "      fig, (ax0, ax2, ax3) = plt.subplots(nrows = 1, ncols = 3, figsize = (25, 8), sharex = True, sharey = True)\n",
        "    else:\n",
        "      fig, (ax1, ax2, ax3) = plt.subplots(nrows = 1, ncols = 3, figsize = (25, 8), sharex = True, sharey = True)\n",
        "  else:\n",
        "    fig, (ax2, ax3) = plt.subplots(nrows = 1, ncols = 2, figsize = (25, 8), sharex = True, sharey = True)\n",
        "\n",
        "if \"a0\" in locals():\n",
        "  sns.heatmap(round(a0 * 100, 2), annot = True, annot_kws = {\"fontsize\": 14}, linewidths = 3, linecolor = \"w\", fmt = \".2f\",\n",
        "              cbar = False, cmap = \"Greens\", ax = ax0) # Predicción: 0 / Realidad: 1\n",
        "if \"a1\" in locals():\n",
        "  sns.heatmap(round(a1 * 100, 2), annot = True, annot_kws = {\"fontsize\": 14}, linewidths = 3, linecolor = \"w\", fmt = \".2f\",\n",
        "              cbar = False, cmap = \"Greens\", ax = ax1) # Predicción: 1 / Realidad: 0\n",
        "\n",
        "sns.heatmap(round(b0 * 100, 2), annot = True, annot_kws = {\"fontsize\": 14}, linewidths = 3, linecolor = \"w\", fmt = \".2f\",\n",
        "            cbar = False, cmap = \"Greens\", ax = ax2) # Predicción: 0 / Realidad: 0\n",
        "\n",
        "sns.heatmap(round(b1 * 100, 2), annot = True, annot_kws = {\"fontsize\": 14}, linewidths = 3, linecolor = \"w\", fmt = \".2f\",\n",
        "            cbar = False, cmap = \"Greens\", ax = ax3); # Predicción: 1 / Realidad: 1\n",
        "\n",
        "if \"a0\" in locals():\n",
        "  ax0.set_title(\"Falsos negativos\", fontdict = {\"fontsize\": 15, \"fontstyle\": \"italic\", \"weight\": \"bold\"}, pad = 15)\n",
        "if \"a1\" in locals():\n",
        "  ax1.set_title(\"Falsos positivos\", fontdict = {\"fontsize\": 15, \"fontstyle\": \"italic\", \"weight\": \"bold\"}, pad = 15)\n",
        "\n",
        "ax2.set_title(\"Verdaderos negativos\", fontdict = {\"fontsize\": 15, \"fontstyle\": \"italic\", \"weight\": \"bold\"}, pad = 15)\n",
        "ax3.set_title(\"Verdaderos positivos\", fontdict = {\"fontsize\": 15, \"fontstyle\": \"italic\", \"weight\": \"bold\"}, pad = 15)\n",
        "\n",
        "plt.savefig(\"Descriptores (barreras respecto a la vacuna COVID-19).png\")\n",
        "plt.show();"
      ],
      "execution_count": null,
      "outputs": [
        {
          "output_type": "display_data",
          "data": {
            "image/png": "[encoded data removed]",
            "text/plain": [
              "<Figure size 1800x576 with 4 Axes>"
            ]
          },
          "metadata": {
            "needs_background": "light"
          }
        }
      ]
    },
    {
      "cell_type": "markdown",
      "metadata": {
        "id": "VQHcBCAKJKJF"
      },
      "source": [
        "> Parece ser que nuestros resultados, por el momento, no son muy confiables. Esto es probablemente por que no tenemos una gran cantidad de respuestas con las cuales podemos trabajar."
      ]
    }
  ]
}